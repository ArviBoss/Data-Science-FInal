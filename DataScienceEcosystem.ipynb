{
 "cells": [
  {
   "cell_type": "markdown",
   "id": "2d295d60-112f-47b1-934a-f7498ad1386b",
   "metadata": {},
   "source": [
    "<h1>Data Science Tools and Ecosystem<h1>"
   ]
  },
  {
   "cell_type": "markdown",
   "id": "0a81013c-fa4f-4b56-8236-dcc00560b210",
   "metadata": {},
   "source": [
    "In this notebook, Data Science Tools and Ecosystem are summarized."
   ]
  },
  {
   "cell_type": "markdown",
   "id": "8db23122-a713-409a-831f-5e80f882d1e2",
   "metadata": {},
   "source": [
    "__Objectives:__\n",
    "<ul>\n",
    "    <li>List popular languages for Data Science</li>\n",
    "    <li>List commonly used libraries for Data Science</li>\n",
    "    <li>List Data Science Tools</li>\n",
    "</ul>\n",
    "\n"
   ]
  },
  {
   "cell_type": "markdown",
   "id": "6de9a0c8-e8f1-416e-a551-a792e6aaed4b",
   "metadata": {},
   "source": [
    "Some of the popular languages that data scientist use are :\n",
    "    <ol>\n",
    "<li>Python</li>\n",
    "<li>R</li>\n",
    "<li>SQL</li>\n",
    "</ol>\n",
    "    \n",
    "    "
   ]
  },
  {
   "cell_type": "markdown",
   "id": "6d51afb1-5a10-4e1b-8eea-480d8bd3e67c",
   "metadata": {},
   "source": [
    "Some of the commonly used libraries used by Data Scientists include:\n",
    "<ol>\n",
    "<li>Pandas</li>\n",
    "<li>PyTest</li>\n",
    "<li>PyTorch</li>\n",
    "</ol>"
   ]
  },
  {
   "cell_type": "markdown",
   "id": "a8de41bc-1a6d-40b8-b03b-f3fb8020a206",
   "metadata": {},
   "source": [
    "<table style=\"width:20%\">\n",
    "    <tr>\n",
    "    <th>Data Science Tools</th>\n",
    "        </tr>\n",
    "    <tr>\n",
    "    <td> RStudio </td>\n",
    "    </tr>\n",
    "    <tr>\n",
    "    <td> TensorFlow </td>\n",
    "    </tr>\n",
    "    <tr>\n",
    "    <td> Apache Spark </td>\n",
    "    </tr>\n",
    "\n",
    "    \n",
    "</table>"
   ]
  },
  {
   "cell_type": "markdown",
   "id": "094001fc-7fe9-43a2-bcbf-b0b7a24ec46c",
   "metadata": {},
   "source": [
    "<h3>Below are a few examples of evaluating arithmetic expressions in Python<h3>"
   ]
  },
  {
   "cell_type": "code",
   "execution_count": 11,
   "id": "c6f0d631-b194-46f9-a1b3-e945751b8925",
   "metadata": {},
   "outputs": [
    {
     "data": {
      "text/plain": [
       "17"
      ]
     },
     "execution_count": 11,
     "metadata": {},
     "output_type": "execute_result"
    }
   ],
   "source": [
    "#This a simple arithmetic expression to mutiply then add integers\n",
    "(3*4)+5"
   ]
  },
  {
   "cell_type": "code",
   "execution_count": 21,
   "id": "35cf1619-8f04-4ccc-83b4-16881a7a6aee",
   "metadata": {},
   "outputs": [
    {
     "data": {
      "text/plain": [
       "33.333333333333336"
      ]
     },
     "execution_count": 21,
     "metadata": {},
     "output_type": "execute_result"
    }
   ],
   "source": [
    "#This will convert 200 minutes to hours by diving by 60\n",
    "200/6"
   ]
  },
  {
   "cell_type": "markdown",
   "id": "e62c9001-0d12-4aa6-8455-bed5015d395b",
   "metadata": {},
   "source": [
    "<h2>Author</h2>\n",
    "Arvinda Bissessar"
   ]
  },
  {
   "cell_type": "code",
   "execution_count": null,
   "id": "3fe2e80d-1dcc-4c5c-b901-fb6877ae50fd",
   "metadata": {},
   "outputs": [],
   "source": []
  }
 ],
 "metadata": {
  "kernelspec": {
   "display_name": "Python",
   "language": "python",
   "name": "conda-env-python-py"
  },
  "language_info": {
   "codemirror_mode": {
    "name": "ipython",
    "version": 3
   },
   "file_extension": ".py",
   "mimetype": "text/x-python",
   "name": "python",
   "nbconvert_exporter": "python",
   "pygments_lexer": "ipython3",
   "version": "3.7.12"
  }
 },
 "nbformat": 4,
 "nbformat_minor": 5
}
